{
 "cells": [
  {
   "cell_type": "markdown",
   "id": "b6df4c39-36b9-4d2e-bbf9-4125d039ab59",
   "metadata": {},
   "source": [
    "<h1><center> <ins><b>Introduction to Modern Portfolio Theory (MPT)</b></ins> </center></h1>\n",
    "\n",
    "<h2> <b><ins>Aims</ins></b></h2>\n",
    "\n",
    "- Explain what Modern Portfolio Theory is\n",
    "- Take a detailed look into how we can mathematically derive the ideas behind this theory\n",
    "- Explain how we can use this with real historical price data\n",
    "- Look at the significance of Efficient Frontiers\n",
    "- Show the main crux of the problem, how we can optimise our portfolio for either minimising risk or maximising our Sharpe Ratio\n",
    "\n",
    "<h2> <b><ins>What is MPT?</ins></b></h2>\n",
    "\n",
    "Modern Portfolio Theory is a theory on how risk-averse investors can construct portfolios to maximise expected return based on a given level of market risk.\n",
    "\n",
    "Given a portfolio made up of $k$ assets, where $k \\in \\mathbb{N}^{>0}$, we must construct it in a way such that we allocate each asset a particular weighting. This way, given an initial set amount of money we choose to invest, we can spread it across our assets by these weightings. This **diversification** ensures we have a better chance of growing our wealth over the long term while managing our risk. Now the question arises as to how we can choose the weights for each asset in a way such that we are risk-averse but still get high returns. This is the crux of the problem we are going to look into.\n",
    "\n",
    "In order to make a start, let us consider how we can calculate the expected returns and risks of a particular portfolio.\n",
    "\n",
    "Assuming we already have a dataframe that contains each asset's returns for each timeframe. In order to find the expected returns, there are various methods to do so. We could simply take the mean of returns for each asset and then annualise them. Or we could use a compound method where instead of looking at returns on a timeframe basis, we assume compound returns. Alternatively, we could calculate an Exponential Weighted Average for each asset's returns, please refer to the Technical Indicators notebook for further information on this. Additionally, we could calculate returns using a Capital Asset Pricing Model (CAPM), where asset returns are equal to market returns plus a term encoding the relative risk of the asset.\n",
    "\n",
    "We can then calculate the risk by calculating the standard deviation (volatility) of returns within our portfolio and represent this as a function of the correlations of the component assets, for all asset pairs. The volatility gives insight into the risk which is associated with the investment. The higher the volatility, the higher the risk.\n",
    "\n",
    "<h2> <b><ins>How can we formally write this?</ins></b> </h2>\n",
    "\n",
    "Firstly, we will introduce some notation to show the ideas explained above.\n",
    "\n",
    "- $k$ : The number of assets we have in our portfolio, where $k \\in \\mathbb{N}^{>0}$\n",
    "- $S_{i}$ : Today's value of the $i$th asset, where $1\\le i\\le k$\n",
    "- $R_{i}$ : The $i$th asset's returns over a given time period, $T$, which is normally distributed with a mean of $\\mu_{i}T$ and standard deviation of $\\sigma_{i}\\sqrt{T}$\n",
    "\n",
    "Now suppose we have $w_{i}$ of the $i$th asset $\\forall \\,k \\in [1,k]$. So we can say the value of our portfolio now $\\left(\\Pi\\right)$ is\n",
    "$$\\Pi = \\sum_{i=1}^{k}w_{i}S_{i}$$\n",
    "After our time period has passed, we can say that the value of each asset has increased by $S_{i}R_{i}$ and so, the portfolio value has increased by $\\delta \\Pi$ where\n",
    "$$\\delta \\Pi = \\sum_{i=1}^{k}w_{i}S_{i}R_{i}$$\n",
    "Now we can say that the relative change in value of our portfolio after said time period is,\n",
    "$$\\frac{\\delta \\Pi}{\\Pi}=\\frac{\\sum_{i=1}^{k}w_{i}S_{i}R_{i}}{\\sum_{i=1}^{k}w_{i}S_{i}}$$\n",
    "$$=\\sum_{i=1}^{k}\\frac{w_{i}S_{i}R_{i}}{\\sum_{i=1}^{k}w_{i}S_{i}}$$\n",
    "$$=\\sum_{i=1}^{k}W_{i}R_{i}$$\n",
    "where $W_{i}=\\frac{w_{i}S_{i}}{\\sum_{i=1}^{k}w_{i}S_{i}}$ and correspond to the **weights** we discussed earlier. Note, how $\\sum_{i=1}^{k}W_{i}=1$.\n",
    "\n",
    "Now to calculate our expected returns on our portfolio $\\left(\\mu_{\\Pi}\\right)$ over a time period of $T$, so we can say\n",
    "$$\\mu_{\\Pi}=\\text{E}\\left[\\frac{\\delta \\Pi}{\\Pi}\\right]=\\text{E}\\left[\\sum_{i=1}^{k}W_{i}R_{i}\\right]$$\n",
    "By the linearity of expectation,\n",
    "$$\\mu_{\\Pi}=\\sum_{i=1}^{k}W_{i}\\,\\text{E}\\left[R_{i}\\right]=\\sum_{i=1}^{k}W_{i}\\,\\mu_{i}$$\n",
    "where $\\mu_{i}=\\text{E}\\left[R_{i}\\right]$ (the expected return)\n",
    "\n",
    "Now we will calculate the variance of the returns on our portfolio $\\left(\\sigma_{\\Pi}^{2}\\right)$ over a time period of $T$, so we can say\n",
    "$$\\sigma_{\\Pi}^{2}=\\text{Var}\\left[\\frac{\\delta \\Pi}{\\Pi}\\right]=\\text{Var}\\left[\\sum_{i=1}^{k}W_{i}R_{i}\\right]=\\sum_{i=1}^{k}\\sum_{j=1}^{k}\\text{Cov}\\left[W_{i}R_{i},W_{j}R_{j}\\right]$$\n",
    "By the linearity of variance,\n",
    "$$\\sigma_{\\Pi}^{2}=\\sum_{i=1}^{k}\\sum_{j=1}^{k}W_{i}W_{j}\\text{Cov}\\left[R_{i},R_{j}\\right]$$\n",
    "$$=\\sum_{i=1}^{k}\\sum_{j=1}^{k}W_{i}W_{j}\\sigma_{i}\\sigma_{j}\\rho_{ij}$$\n",
    "where $\\rho_{ij}$ is the **correlation coefficient** between the returns on assets $i$ and $j$.\n",
    "So we can say that the standard deviation of the returns on our portfolio (which we refer to as the volatility/risk) is\n",
    "$$\\sigma_{\\Pi}=\\sqrt{\\sum_{i=1}^{k}\\sum_{j=1}^{k}W_{i}W_{j}\\sigma_{i}\\sigma_{j}\\rho_{ij}}$$\n",
    "\n",
    "However, we can greatly simplify this by instead of dealing with summations and algebra, converting these into vectors and matrices. This is significantly more compact and efficient.\n",
    "\n",
    "In order to do this, we will let $\\mathbf{w} \\in \\mathbb{R}^{k\\times 1}$ represent a column vector with entries of each derivate's weighting we discussed above. And we will let $\\boldsymbol{\\mu} \\in \\mathbb{R}^{k\\times 1}$ represent a column vector with entries of each derivate's expected returns as discussed above.\n",
    "\n",
    "When we consider $\\mu_{\\Pi}=\\sum_{i=1}^{k}W_{i}\\,\\mu_{i}$, we can simplify this to $\\mu_{\\Pi}=\\mathbf{w}^{T}\\boldsymbol{\\mu}$\n",
    "\n",
    "Finally, upon considering $\\sigma_{\\Pi}^{2}=\\text{Var}\\left[\\sum_{i=1}^{k}W_{i}R_{i}\\right]$, we can equate this to $\\text{Var}\\left[\\mathbf{w}^{T}\\mathbf{R}\\right]$. And by using a covariance matrix $\\left(\\boldsymbol{\\Sigma}\\right)$, we can say $\\sigma_{\\Pi}^{2}=\\text{Var}\\left[\\mathbf{w}^{T}\\mathbf{R}\\right]=\\mathbf{w}^{T}\\boldsymbol{\\Sigma} \\mathbf{w}$\n",
    "\n",
    "Let us reflect on what we have covered. Given a vector of weights for each asset, denoted by $\\mathbf{w}$, a vector of expected returns for each asset, denoted by $\\mathbf{\\mu}$, and a covariance matrix of returns, denoted by $\\Sigma$, we can say\n",
    "$$\\mu_{\\Pi} = \\mathbf{w}^{T}\\boldsymbol{\\mu} \\tag{x}$$\n",
    "$$\\sigma_{\\Pi}^{2}=\\mathbf{w}^{T}\\boldsymbol{\\Sigma} \\mathbf{w} \\tag{x}$$"
   ]
  },
  {
   "cell_type": "markdown",
   "id": "62b84d1d-3e82-478d-9c00-fe81e884f4bf",
   "metadata": {},
   "source": [
    "<h2> <b><ins>How do we use this?</ins></b> </h2>\n",
    "\n",
    "Although it is all well and good deriving these formulae to calculate the expected returns and risk of a portfolio, in practice how would we calculate our individual asset's expected returns and a covariance matrix from said returns? In order to better understand this, we will tackle both calculations individually in detail.\n",
    "\n",
    "<h2> <b><ins>Expected returns</ins></b> </h2>\n",
    "\n",
    "Expected returns are rather difficult to know with any certainty, thus the best we can do is to come up with estimates, for example by extrapolating historical data. So suppose we have a dataframe of OHLC historical price data from various assets in our portfolio. For each time step, whether it be a day or hours or minutes, we can calculate each time period's returns easily using the following formula. For time $t$ the return at time $t+\\delta t$ $\\left(R_{t+\\delta t}\\right)$ is,\n",
    "$$R_{t+\\delta t}=\\frac{\\text{Close}_{t+\\delta t}-\\text{Close}_{t}}{\\text{Close}_{t}}$$\n",
    "\n",
    "Using this, we can construct a dataframe that is full of each asset's returns on a specified time period basis. Then to calculate the **expected** returns, there are various ways we could go about this. We will cover 3 main methods as listed below:\n",
    "\n",
    "- Mean\n",
    "- Exponentially Weighted Mean\n",
    "- Capital Asset Pricing Model (CAPM)\n",
    "\n",
    "<h3> <ins>Mean</ins> </h3>\n",
    "\n",
    "This is the simplest way to calculate our expected returns for each asset and we simply use the following formula\n",
    "$$\\mu_{i} = \\frac{252}{n}\\sum_{i=1}^{n}R_{i}$$\n",
    "where $n$ is the number of time steps we have in our dataframe and we multiply by 252 to annualise our returns\n",
    "\n",
    "However, in order to use annualised compound returns we would be more accurate using the following formula\n",
    "$$\\mu_{i} = \\left[\\prod_{i=1}^{n}\\left(1+R_{i}\\right)\\right]^{\\frac{252}{n}}-1$$\n",
    "\n",
    "<h3> <ins>Exponentially Weighted Mean</ins> </h3>\n",
    "\n",
    "This is an alternate way, where we place a greater weight and significance on the most recent closing prices. We cover this in greater detail in our **Technical Indicators** notebook.\n",
    "\n",
    "<h3> <ins>CAPM</ins> </h3>\n",
    "\n",
    "The capital asset pricing model is a financial model that estimates the expected return of an investment based on its systematic risk (market-related risk). It is calculated by using the expected return on both the market and a risk-free asset, and the asset’s correlation or sensitivity to the market (beta). It can be calculated using the following formula\n",
    "$$\\mu_{i}=R_{f}+\\beta_{i} \\left(\\mu_{m}-R_{f}\\right)$$\n",
    "where<br>\n",
    "- $R_{f}$ is the risk-free rate (such as the treasury bond yield)<br>\n",
    "- $\\mu_{m}$ is the expected return of the market<br>\n",
    "- $\\beta_{i}$ is a measure of the sensitivity of asset $i$ to the market<br>\n",
    "- $\\mu_{m}-R_{f}$ is the market risk premium (extra return for market risk)\n",
    "\n",
    "We can calculate $\\mu_{m}$ easily using either the Mean or EWM methods above and then calculate $\\beta_{i}$ using a covariance matrix which we will cover in more detail when we implement this into code.\n",
    "\n",
    "<h2> <b><ins>Risk Models</ins></b> </h2>\n",
    "\n",
    "As can be seen in equation (), in order to evaluate the risk of a portfolio, we require a covariance matrix from the $k$ assets. Thus, we must consider how we can calculate said covariance matrix. As with expected returns, there are various ways we can do this. \n",
    "\n",
    "- Sample Covariance\n",
    "- Semi Covariance\n",
    "- Exponentially Weighted Covariance\n",
    "- Shrinkage Estimated Covariance (Ledoit-Wolf or Oracle Approximating)\n",
    "\n",
    "<h2> <b><ins>Which model do we use?</ins></b> </h2>\n",
    "\n",
    "Given so many models and methods one could go about calculating a portfolio's expected returns and risk, the question is which way is best. For our purposes we will continue with calculating expected returns using a CAPM, and risk using a Ledoit-Wolf Shrinkage Estimator."
   ]
  },
  {
   "cell_type": "markdown",
   "id": "aaa6e1de-413a-4cb6-9081-416fe08a1979",
   "metadata": {},
   "source": [
    "<h2> <b><ins>Example</ins></b></h2>\n",
    "\n",
    "Having explained how to calculate a portfolio's expected returns and risk, given information about each asset's weight and returns in the portfolio. Let us consider a simple example below. Suppose we have a portfolio made up of 2 stocks (AAPL,GOOG) with weights of (0.6,0.4) respectively. Let us begin by downloading the daily price data of both stocks and calculating the daily returns."
   ]
  },
  {
   "cell_type": "code",
   "execution_count": 3,
   "id": "1236f7b2-accc-49bd-b37c-77e6c533333a",
   "metadata": {},
   "outputs": [],
   "source": [
    "# Importing necessary libraries\n",
    "import numpy as np\n",
    "import yfinance as yf\n",
    "import pandas as pd\n",
    "import matplotlib.pyplot as plt\n",
    "import seaborn as sns\n",
    "from sklearn import covariance\n",
    "from sklearn.covariance import ledoit_wolf\n",
    "import cvxpy as cp"
   ]
  },
  {
   "cell_type": "code",
   "execution_count": 4,
   "id": "bab138e9-a5dc-414e-9a5f-f83f4ed18c17",
   "metadata": {},
   "outputs": [
    {
     "name": "stderr",
     "output_type": "stream",
     "text": [
      "[*********************100%***********************]  2 of 2 completed\n"
     ]
    },
    {
     "data": {
      "text/html": [
       "<div>\n",
       "<style scoped>\n",
       "    .dataframe tbody tr th:only-of-type {\n",
       "        vertical-align: middle;\n",
       "    }\n",
       "\n",
       "    .dataframe tbody tr th {\n",
       "        vertical-align: top;\n",
       "    }\n",
       "\n",
       "    .dataframe thead th {\n",
       "        text-align: right;\n",
       "    }\n",
       "</style>\n",
       "<table border=\"1\" class=\"dataframe\">\n",
       "  <thead>\n",
       "    <tr style=\"text-align: right;\">\n",
       "      <th>Ticker</th>\n",
       "      <th>AAPL</th>\n",
       "      <th>AMZN</th>\n",
       "    </tr>\n",
       "    <tr>\n",
       "      <th>Date</th>\n",
       "      <th></th>\n",
       "      <th></th>\n",
       "    </tr>\n",
       "  </thead>\n",
       "  <tbody>\n",
       "    <tr>\n",
       "      <th>2018-01-03</th>\n",
       "      <td>-0.000174</td>\n",
       "      <td>0.012775</td>\n",
       "    </tr>\n",
       "    <tr>\n",
       "      <th>2018-01-04</th>\n",
       "      <td>0.004645</td>\n",
       "      <td>0.004476</td>\n",
       "    </tr>\n",
       "    <tr>\n",
       "      <th>2018-01-05</th>\n",
       "      <td>0.011385</td>\n",
       "      <td>0.016163</td>\n",
       "    </tr>\n",
       "    <tr>\n",
       "      <th>2018-01-08</th>\n",
       "      <td>-0.003714</td>\n",
       "      <td>0.014425</td>\n",
       "    </tr>\n",
       "    <tr>\n",
       "      <th>2018-01-09</th>\n",
       "      <td>-0.000115</td>\n",
       "      <td>0.004676</td>\n",
       "    </tr>\n",
       "    <tr>\n",
       "      <th>...</th>\n",
       "      <td>...</td>\n",
       "      <td>...</td>\n",
       "    </tr>\n",
       "    <tr>\n",
       "      <th>2025-02-24</th>\n",
       "      <td>0.006312</td>\n",
       "      <td>-0.017869</td>\n",
       "    </tr>\n",
       "    <tr>\n",
       "      <th>2025-02-25</th>\n",
       "      <td>-0.000243</td>\n",
       "      <td>0.000423</td>\n",
       "    </tr>\n",
       "    <tr>\n",
       "      <th>2025-02-26</th>\n",
       "      <td>-0.027040</td>\n",
       "      <td>0.007284</td>\n",
       "    </tr>\n",
       "    <tr>\n",
       "      <th>2025-02-27</th>\n",
       "      <td>-0.012731</td>\n",
       "      <td>-0.026172</td>\n",
       "    </tr>\n",
       "    <tr>\n",
       "      <th>2025-02-28</th>\n",
       "      <td>0.019132</td>\n",
       "      <td>0.016959</td>\n",
       "    </tr>\n",
       "  </tbody>\n",
       "</table>\n",
       "<p>1799 rows × 2 columns</p>\n",
       "</div>"
      ],
      "text/plain": [
       "Ticker          AAPL      AMZN\n",
       "Date                          \n",
       "2018-01-03 -0.000174  0.012775\n",
       "2018-01-04  0.004645  0.004476\n",
       "2018-01-05  0.011385  0.016163\n",
       "2018-01-08 -0.003714  0.014425\n",
       "2018-01-09 -0.000115  0.004676\n",
       "...              ...       ...\n",
       "2025-02-24  0.006312 -0.017869\n",
       "2025-02-25 -0.000243  0.000423\n",
       "2025-02-26 -0.027040  0.007284\n",
       "2025-02-27 -0.012731 -0.026172\n",
       "2025-02-28  0.019132  0.016959\n",
       "\n",
       "[1799 rows x 2 columns]"
      ]
     },
     "execution_count": 4,
     "metadata": {},
     "output_type": "execute_result"
    }
   ],
   "source": [
    "# Download historical data (OHLCV)\n",
    "start_date = '2018-01-01'\n",
    "end_date = '2025-03-01'\n",
    "stocks = ['AAPL','AMZN']\n",
    "df = yf.download(stocks,\n",
    "                 interval = '1d', # Change interval if need be\n",
    "                 start = start_date,\n",
    "                 end = end_date,\n",
    "                 #period = 'max', # Option to download prices as far back as possible\n",
    "                 auto_adjust = True,\n",
    "                 multi_level_index = False)\n",
    "df.index = pd.to_datetime(df.index)\n",
    "# We only require the closing prices\n",
    "df=df['Close']\n",
    "# Calculate daily returns\n",
    "ret_df=df.pct_change().dropna()\n",
    "ret_df"
   ]
  },
  {
   "cell_type": "markdown",
   "id": "132a2301-4258-4e71-be14-6c96289bf5e3",
   "metadata": {},
   "source": [
    "Now we will use our CAPM to calculate each stock's expected returns"
   ]
  },
  {
   "cell_type": "code",
   "execution_count": 5,
   "id": "7c4a2508-336b-49b8-9a42-ec69a5644460",
   "metadata": {},
   "outputs": [
    {
     "data": {
      "text/plain": [
       "Ticker\n",
       "AAPL    0.237044\n",
       "AMZN    0.267737\n",
       "Name: mean_ret, dtype: float64"
      ]
     },
     "execution_count": 5,
     "metadata": {},
     "output_type": "execute_result"
    }
   ],
   "source": [
    "# Calculate mean returns\n",
    "temp = ret_df.copy()\n",
    "temp['mean_ret'] = ret_df.mean(axis=1)\n",
    "\n",
    "# Calculate covariances of returns and mean returns and then betas and mean market return\n",
    "cov = temp.cov()\n",
    "beta = cov[\"mean_ret\"] / cov.loc[\"mean_ret\", \"mean_ret\"]\n",
    "beta = beta.drop('mean_ret')\n",
    "mean_mkt_ret = (1 + temp['mean_ret']).prod() ** (252 / len(temp['mean_ret'])) - 1\n",
    "\n",
    "# Calculate expected returns\n",
    "risk_free_rate = 0.041\n",
    "mu = risk_free_rate + beta * (mean_mkt_ret - risk_free_rate)\n",
    "mu"
   ]
  },
  {
   "cell_type": "markdown",
   "id": "03d865fe-937a-40d6-a3ec-a3305e1edd46",
   "metadata": {},
   "source": [
    "Now we will use a Ledoit-Wolf Shrinkage Estimator to calculate the covariance matrix"
   ]
  },
  {
   "cell_type": "code",
   "execution_count": 6,
   "id": "eb68989a-3d40-4fe6-b8ed-657872d7fb28",
   "metadata": {},
   "outputs": [
    {
     "data": {
      "text/plain": [
       "array([[0.09311184, 0.06116217],\n",
       "       [0.06116217, 0.11702843]])"
      ]
     },
     "execution_count": 6,
     "metadata": {},
     "output_type": "execute_result"
    }
   ],
   "source": [
    "# Covariance matrix\n",
    "cov, shrinkage = ledoit_wolf(ret_df)\n",
    "cov = cov*252\n",
    "cov"
   ]
  },
  {
   "cell_type": "markdown",
   "id": "3c3fc1b6-eb25-45d1-86b8-957bdca8fad9",
   "metadata": {},
   "source": [
    "Now we can substitute these values into equations () and () to calculate our portfolio's expected returns and risks"
   ]
  },
  {
   "cell_type": "code",
   "execution_count": 7,
   "id": "91de6476-4cc3-4cbd-8a35-8a235e3c7659",
   "metadata": {},
   "outputs": [
    {
     "name": "stdout",
     "output_type": "stream",
     "text": [
      "The portfolio expected returns are 0.25\n",
      "The portfolio volatility is 0.29\n"
     ]
    }
   ],
   "source": [
    "# Our chosen weights\n",
    "w = np.array([0.6,0.4])\n",
    "\n",
    "# Calculate portfolio returns and risks\n",
    "p_ret = w.dot(mu).tolist()\n",
    "p_risk = np.sqrt(w.T @ cov @ w).tolist()\n",
    "\n",
    "print(f'The portfolio expected returns are {p_ret:.2f}')\n",
    "print(f'The portfolio volatility is {p_risk:.2f}')"
   ]
  },
  {
   "cell_type": "markdown",
   "id": "57071833-5a06-478d-9d0d-dc607759e52f",
   "metadata": {},
   "source": [
    "<h2> <b><ins>What if we use different weights?</ins></b></h2>\n",
    "\n",
    "Let us investigate how our returns/risks will be affected if we use different weights for each stock. To do this via code, we will make use of NumPy's Dirichlet Distribution so we can create multiple random vectors that sum to 1."
   ]
  },
  {
   "cell_type": "code",
   "execution_count": 8,
   "id": "76392240-1faa-4ea7-96b5-1f7cb5e0980d",
   "metadata": {},
   "outputs": [
    {
     "data": {
      "text/html": [
       "<div>\n",
       "<style scoped>\n",
       "    .dataframe tbody tr th:only-of-type {\n",
       "        vertical-align: middle;\n",
       "    }\n",
       "\n",
       "    .dataframe tbody tr th {\n",
       "        vertical-align: top;\n",
       "    }\n",
       "\n",
       "    .dataframe thead th {\n",
       "        text-align: right;\n",
       "    }\n",
       "</style>\n",
       "<table border=\"1\" class=\"dataframe\">\n",
       "  <thead>\n",
       "    <tr style=\"text-align: right;\">\n",
       "      <th></th>\n",
       "      <th>risk</th>\n",
       "      <th>ret</th>\n",
       "      <th>weights</th>\n",
       "      <th>sharpe_ratio</th>\n",
       "    </tr>\n",
       "  </thead>\n",
       "  <tbody>\n",
       "    <tr>\n",
       "      <th>0</th>\n",
       "      <td>0.332967</td>\n",
       "      <td>0.265964</td>\n",
       "      <td>[0.057769464156869274, 0.9422305358431308]</td>\n",
       "      <td>0.675634</td>\n",
       "    </tr>\n",
       "    <tr>\n",
       "      <th>1</th>\n",
       "      <td>0.292070</td>\n",
       "      <td>0.241812</td>\n",
       "      <td>[0.8446583766736147, 0.15534162332638546]</td>\n",
       "      <td>0.687548</td>\n",
       "    </tr>\n",
       "    <tr>\n",
       "      <th>2</th>\n",
       "      <td>0.333090</td>\n",
       "      <td>0.265989</td>\n",
       "      <td>[0.056958281278177605, 0.9430417187218224]</td>\n",
       "      <td>0.675458</td>\n",
       "    </tr>\n",
       "    <tr>\n",
       "      <th>3</th>\n",
       "      <td>0.309184</td>\n",
       "      <td>0.260513</td>\n",
       "      <td>[0.23537122091180732, 0.7646287790881927]</td>\n",
       "      <td>0.709974</td>\n",
       "    </tr>\n",
       "    <tr>\n",
       "      <th>4</th>\n",
       "      <td>0.294826</td>\n",
       "      <td>0.255846</td>\n",
       "      <td>[0.38740772851372235, 0.6125922714862778]</td>\n",
       "      <td>0.728723</td>\n",
       "    </tr>\n",
       "    <tr>\n",
       "      <th>...</th>\n",
       "      <td>...</td>\n",
       "      <td>...</td>\n",
       "      <td>...</td>\n",
       "      <td>...</td>\n",
       "    </tr>\n",
       "    <tr>\n",
       "      <th>9995</th>\n",
       "      <td>0.285533</td>\n",
       "      <td>0.247547</td>\n",
       "      <td>[0.6578037833053356, 0.3421962166946642]</td>\n",
       "      <td>0.723375</td>\n",
       "    </tr>\n",
       "    <tr>\n",
       "      <th>9996</th>\n",
       "      <td>0.311413</td>\n",
       "      <td>0.261102</td>\n",
       "      <td>[0.2161775517117252, 0.7838224482882749]</td>\n",
       "      <td>0.706783</td>\n",
       "    </tr>\n",
       "    <tr>\n",
       "      <th>9997</th>\n",
       "      <td>0.304046</td>\n",
       "      <td>0.259052</td>\n",
       "      <td>[0.28295122913293325, 0.7170487708670669]</td>\n",
       "      <td>0.717167</td>\n",
       "    </tr>\n",
       "    <tr>\n",
       "      <th>9998</th>\n",
       "      <td>0.303676</td>\n",
       "      <td>0.237481</td>\n",
       "      <td>[0.9857505949319761, 0.014249405068023807]</td>\n",
       "      <td>0.647010</td>\n",
       "    </tr>\n",
       "    <tr>\n",
       "      <th>9999</th>\n",
       "      <td>0.288597</td>\n",
       "      <td>0.243816</td>\n",
       "      <td>[0.7793584427248968, 0.2206415572751032]</td>\n",
       "      <td>0.702766</td>\n",
       "    </tr>\n",
       "  </tbody>\n",
       "</table>\n",
       "<p>10000 rows × 4 columns</p>\n",
       "</div>"
      ],
      "text/plain": [
       "          risk       ret                                     weights  \\\n",
       "0     0.332967  0.265964  [0.057769464156869274, 0.9422305358431308]   \n",
       "1     0.292070  0.241812   [0.8446583766736147, 0.15534162332638546]   \n",
       "2     0.333090  0.265989  [0.056958281278177605, 0.9430417187218224]   \n",
       "3     0.309184  0.260513   [0.23537122091180732, 0.7646287790881927]   \n",
       "4     0.294826  0.255846   [0.38740772851372235, 0.6125922714862778]   \n",
       "...        ...       ...                                         ...   \n",
       "9995  0.285533  0.247547    [0.6578037833053356, 0.3421962166946642]   \n",
       "9996  0.311413  0.261102    [0.2161775517117252, 0.7838224482882749]   \n",
       "9997  0.304046  0.259052   [0.28295122913293325, 0.7170487708670669]   \n",
       "9998  0.303676  0.237481  [0.9857505949319761, 0.014249405068023807]   \n",
       "9999  0.288597  0.243816    [0.7793584427248968, 0.2206415572751032]   \n",
       "\n",
       "      sharpe_ratio  \n",
       "0         0.675634  \n",
       "1         0.687548  \n",
       "2         0.675458  \n",
       "3         0.709974  \n",
       "4         0.728723  \n",
       "...            ...  \n",
       "9995      0.723375  \n",
       "9996      0.706783  \n",
       "9997      0.717167  \n",
       "9998      0.647010  \n",
       "9999      0.702766  \n",
       "\n",
       "[10000 rows x 4 columns]"
      ]
     },
     "execution_count": 8,
     "metadata": {},
     "output_type": "execute_result"
    }
   ],
   "source": [
    "rf = 0.041\n",
    "p_rets = []\n",
    "p_risks = []\n",
    "p_weights = []\n",
    "p_sr = []\n",
    "for _ in range(10000):\n",
    "    w = np.random.dirichlet(np.ones(2))\n",
    "    p_weights.append(w)\n",
    "    p_ret = (w.T @ mu).tolist()\n",
    "    p_rets.append(p_ret)\n",
    "    p_risk = np.sqrt(w.T @ cov @ w).tolist()\n",
    "    p_risks.append(p_risk)\n",
    "    p_sr.append((p_ret - rf) / p_risk)\n",
    "\n",
    "\n",
    "ef = pd.DataFrame({'risk': p_risks, 'ret': p_rets, 'weights': p_weights, 'sharpe_ratio': p_sr})\n",
    "ef"
   ]
  },
  {
   "cell_type": "code",
   "execution_count": 9,
   "id": "b922c6f2-d97b-40f8-8588-b304be5d611f",
   "metadata": {},
   "outputs": [],
   "source": [
    "# Split our data by points above\\below the min risk point\n",
    "idx = ef.risk.idxmin()\n",
    "split = ef.iloc[idx]['ret']\n",
    "ef1 = ef[ef['ret'] >= split]\n",
    "ef2 = ef[ef['ret'] < split]\n",
    "\n",
    "stocks_ret = mu.to_numpy()\n",
    "stocks_risk = np.sqrt(np.diag(cov))"
   ]
  },
  {
   "cell_type": "code",
   "execution_count": 10,
   "id": "a70f317c-dfa4-4483-86a5-ce668cecaced",
   "metadata": {},
   "outputs": [
    {
     "data": {
      "image/png": "[encoded data removed]",
      "text/plain": [
       "<Figure size 1200x800 with 1 Axes>"
      ]
     },
     "metadata": {},
     "output_type": "display_data"
    }
   ],
   "source": [
    "plt.figure(figsize=(12,8))\n",
    "plt.scatter(ef1.risk, ef1.ret, s=5, c='green', label='Top of Frontier')\n",
    "plt.scatter(ef2.risk, ef2.ret, s=5, c='blue', label='Bottom of Frontier')\n",
    "plt.scatter(stocks_risk[0],stocks_ret[0], s=50, c='brown', label=stocks[0])\n",
    "plt.scatter(stocks_risk[1],stocks_ret[1], s=50, c='yellow', label=stocks[1])\n",
    "plt.scatter(p_risk, p_ret, s=100, c='red', marker='x', label='Original Calculated Portfolio')\n",
    "plt.xlabel('Risk', fontsize=20)\n",
    "plt.ylabel('Return', fontsize=20)\n",
    "plt.title('Efficient Frontier', fontsize=30)\n",
    "plt.legend()\n",
    "plt.show()"
   ]
  },
  {
   "cell_type": "markdown",
   "id": "c203ea53-8753-49fd-ae71-7432c72bbbea",
   "metadata": {},
   "source": [
    "As can be expected due to our equations () and () which are in the form of a hyperbola, we can see that our possible portfolio returns\\risks for various weights form the shape of a hyperbola as shown above. However, for all the possible weights we could assign to our portfolio assets, how do we know which to choose?\n",
    "\n",
    "In an ideal world, we would want the highest return possible with the lowest risk possible. So, it should be clear that we should always choose a portfolio where we are in the top half of the hyperbola (the green part in the plot above). However, now we need to consider where is best along the green curve to be to have the optimal portfolio. The further to the right we are, the more returns we get **but** the more risk there is. There are various ways we can do this but let us set out the problem first.\n",
    "\n",
    "<h2> <b><ins>Optimising Portfolio</ins></b> </h2>\n",
    "\n",
    "There are various ways we can optimise our portfolio, specifically what we are seeking to minimise or maximise. We will cover 3 popular optimisers:\n",
    "\n",
    "- Minimising our portfolio's risk\n",
    "- Maximising Sharpe Ratio\n",
    "\n",
    "<h3> <ins>Minimsing Risk</ins> </h3>\n",
    "\n",
    "From above, it is clear that in order to minimise risk, we can just simply take the furthest left portfolio in our efficient frontier, however this is not efficient since there may be a portfolio to the right with significantly higher returns with only slightly higher risks. Therefore to avoid this, we can set a target return we want to achieve from our portfolio and ensure our weights achieve this. Let us set this out formally, so we want to find a set of weights, $\\mathbf{w}$, such that\n",
    "$$\\mathbf{w} = \\min_{\\mathbf{w}}\\lbrace \\mathbf{w}^{T}\\boldsymbol{\\Sigma} \\mathbf{w}\\rbrace$$\n",
    "$$\\text{s.t}\\,\\,\\,\\,\\mathbf{w}^{T}\\boldsymbol{\\mu} \\ge \\mu^{*},\\,\\,\\lVert \\mathbf{w} \\rVert_{1}=1\\,\\,\\text{and}\\,\\,w_{i}\\ge 0,\\,\\,\\forall i \\in \\left[1,k\\right]$$\n",
    "where $\\mu^{*}$ represents some target return value that we would like to exceed.\n",
    "\n",
    "There are 2 ways we can go about solving this. We can do this\n",
    "1) **Analytically** - using Lagrange multipliers\n",
    "2) **Numerically** - using CvxPy's minimise optimiser\n",
    "\n",
    "We will cover the analytic solution in a separate notebook so let us proceed with the numerical solution"
   ]
  },
  {
   "cell_type": "markdown",
   "id": "0ca44e0f-8acb-4c92-92ab-ea9e93cc28c7",
   "metadata": {},
   "source": [
    "<h3> <ins>Numerical Solution</ins> </h3>\n",
    "\n",
    "For this, we will make use of the library CvxPy, a convex optimisation solver."
   ]
  },
  {
   "cell_type": "code",
   "execution_count": 11,
   "id": "4e4f42c7-28d2-4d48-b778-9d35ba700a74",
   "metadata": {},
   "outputs": [
    {
     "name": "stdout",
     "output_type": "stream",
     "text": [
      "Numerical Solution:\n",
      "For our efficient risk minimising optimisation, we achieve results of:\n",
      "\n",
      "Return (%): 24.82108\n",
      "Risk (%): 28.54606\n",
      "Weights: [0.63617 0.36383]\n"
     ]
    }
   ],
   "source": [
    "# Set target return value (here we want at least a 15% annual return)\n",
    "ret_min = 0.15\n",
    "\n",
    "# Create cvxpy variable to minimize (2 dimensional since we are dealing with a portfolio of 2 stocks)\n",
    "w = cp.Variable(2)\n",
    "\n",
    "# Construct the objective function and constraints\n",
    "obj = cp.Minimize(w.T @ cov @ w)\n",
    "const = [cp.sum(w) == 1, w >= 0,\n",
    "         w.T @ mu - ret_min >= 0]\n",
    "\n",
    "# Solve\n",
    "prob = cp.Problem(obj, const)\n",
    "opt_v = prob.solve()\n",
    "\n",
    "# Square root to get standard deviation (risk)\n",
    "w_opt_mr = w.value\n",
    "ret_opt_mr = w_opt_mr.T @ mu\n",
    "risk_opt_mr = np.sqrt(opt_v)\n",
    "\n",
    "print('Numerical Solution:')\n",
    "print('For our efficient risk minimising optimisation, we achieve results of:\\n')\n",
    "print('Return (%):', np.round(ret_opt_mr*100, 5))\n",
    "print('Risk (%):', np.round(risk_opt_mr*100, 5))\n",
    "print('Weights:', np.round(w_opt_mr, 5))"
   ]
  },
  {
   "cell_type": "markdown",
   "id": "75e7e287-c08f-4ae8-a999-bfc90587c3a4",
   "metadata": {},
   "source": [
    "<h3> <ins>Maximising Sharpe Ratio</ins> </h3>\n",
    "\n",
    "As discussed previously, the Sharpe ratio compares the return of an investment with its risk. We can calculate it using the following formula\n",
    "$$\\text{Sharpe Ratio} = \\frac{R_{p}-R_{f}}{\\sigma_{p}}$$\n",
    "where:\n",
    "- $R_{p}$ is the expected returns of our portfolio\n",
    "- $R_{f}$ is the risk-free rate\n",
    "- $\\sigma_{p}$ is the risk of the portfolio\n",
    "\n",
    "However in the context of our equations and models, we will write this slightly different to\n",
    "$$\\text{Sharpe Ratio} = \\frac{\\mathbf{w}^{T}\\boldsymbol{\\mu}-R_{f}}{\\sqrt{\\mathbf{w}^{T}\\boldsymbol{\\Sigma} \\mathbf{w}}}$$\n",
    "Since our weights sum to 1, we can say $\\mathbf{w}^{T} \\cdot \\mathbf{1} = 1$. So,\n",
    "$$\\text{Sharpe Ratio} = \\frac{\\mathbf{w}^{T}\\boldsymbol{\\mu}-\\mathbf{w}^{T} \\cdot \\mathbf{1} \\cdot R_{f}}{\\sqrt{\\mathbf{w}^{T}\\boldsymbol{\\Sigma} \\mathbf{w}}} = \\frac{\\mathbf{w}^{T}\\left(\\boldsymbol{\\mu}-R_{f}\\right)}{\\sqrt{\\mathbf{w}^{T}\\boldsymbol{\\Sigma} \\mathbf{w}}}$$\n",
    "\n",
    "\n",
    "So we want to find a set of weights, $\\mathbf{w}$, such that\n",
    "$$\\mathbf{w} = \\max_{\\mathbf{w}}\\left\\{\\frac{\\mathbf{w}^{T}\\left(\\boldsymbol{\\mu}-R_{f}\\right)}{\\sqrt{\\mathbf{w}^{T}\\boldsymbol{\\Sigma} \\mathbf{w}}}\\right\\}$$\n",
    "$$\\text{s.t}\\,\\,\\,\\,\\lVert \\mathbf{w} \\rVert_{1}=1\\,\\,\\text{and}\\,\\,w_{i}\\ge 0,\\,\\,\\forall i \\in \\left[1,k\\right]$$\n",
    "\n",
    "However, in order to use CvxPy, we require a strict convex optimisation obejective. Here we are maximizing a ratio of a linear term and a square root of a quadratic, which is clearly not strictly convex. Although we could use alternate methods without this restriction, we can simply scale and transform our problem.\n",
    "\n",
    "Firstly, we will fix $\\mathbf{w}^{T}\\left(\\boldsymbol{\\mu}-R_{f}\\right) = 1$. That way, in our efforts to **maximise** $\\frac{\\mathbf{w}^{T}\\left(\\boldsymbol{\\mu}-R_{f}\\right)}{\\sqrt{\\mathbf{w}^{T}\\boldsymbol{\\Sigma} \\mathbf{w}}}$, we can simply **minimise** $\\sqrt{\\mathbf{w}^{T}\\boldsymbol{\\Sigma} \\mathbf{w}}$. Since $\\sqrt{x} \\ge 0\\,\\,\\,\\forall x \\in \\mathbb{R}$, we can simply minimise $\\mathbf{w}^{T}\\boldsymbol{\\Sigma} \\mathbf{w}$.\n",
    "\n",
    "However, if we proceed with finding a set of weights that satisfies the above conditions, we have forgone one important condition mentioned previously, that we require $\\lVert \\mathbf{w} \\rVert_{1}=1$. There is no guarantee this holds, so let us assume that $\\lVert \\mathbf{w} \\rVert_{1}= k$ for some $k \\in \\mathbb{R}$. Then we can simply scale our weights by a factor of $\\frac{1}{k}$ to achieve a set of weights that sum to 1, but still minimise the problem above.\n",
    "\n",
    "So formally, we seek to find a set of weights, $\\mathbf{w}^{*}$, such that\n",
    "$$\\mathbf{w}^{*} = \\min_{\\mathbf{w}^{*}}\\left\\{\\left(\\mathbf{w}^{*}\\right)^{T}\\boldsymbol{\\Sigma} \\mathbf{w}^{*}\\right\\}$$\n",
    "$$\\text{s.t}\\,\\,\\,\\,\\left(\\mathbf{w}^{*}\\right)^{T}\\left(\\boldsymbol{\\mu}-R_{f}\\right) = 1\\,\\,\\text{and}\\,\\,w_{i}^{*}\\ge 0,\\,\\,\\forall i \\in \\left[1,k\\right]$$\n",
    "\n",
    "Having found a set of weights, we finally scale them to ensure they sum to 1. So the set of weights that maximises the Sharpe Ratio is\n",
    "$$\\mathbf{w} = \\frac{\\mathbf{w}^{*}}{\\lVert \\mathbf{w}^{*} \\rVert_{1}}$$\n",
    "\n",
    "Let us implement this into our simple example."
   ]
  },
  {
   "cell_type": "code",
   "execution_count": 12,
   "id": "29e2fda8-ab09-4371-8b0a-c1a2896a38c6",
   "metadata": {},
   "outputs": [
    {
     "name": "stdout",
     "output_type": "stream",
     "text": [
      "For our sharpe ratio maximising optimisation, we achieve results of:\n",
      "\n",
      "Return (%): 25.24295\n",
      "Risk (%): 28.83518\n",
      "Weights: [0.49873 0.50127]\n"
     ]
    }
   ],
   "source": [
    "# Risk-free rate\n",
    "rf = 0.041\n",
    "\n",
    "# Create cvxpy variable to minimize (2 dimensional since we are dealing with a portfolio of 2 stocks)\n",
    "w = cp.Variable(2)\n",
    "k = cp.Variable()\n",
    "\n",
    "# Construct the objective function and constraints\n",
    "obj = cp.Minimize(w.T @ cov @ w)\n",
    "# \n",
    "const = [w.T @ (mu.to_numpy() - rf) == 1,\n",
    "         cp.sum(w) == k,\n",
    "         k >= 0]\n",
    "\n",
    "# Solve\n",
    "prob = cp.Problem(obj, const)\n",
    "temp = prob.solve()\n",
    "\n",
    "# \n",
    "w_opt_msr = w.value/k.value\n",
    "ret_opt_msr = w_opt_msr.T @ mu\n",
    "risk_opt_msr = np.sqrt(w_opt_msr.T @ cov @ w_opt_msr)\n",
    "\n",
    "print('For our sharpe ratio maximising optimisation, we achieve results of:\\n')\n",
    "print('Return (%):', round(ret_opt_msr*100, 5))\n",
    "print('Risk (%):', round(risk_opt_msr*100, 5))\n",
    "print('Weights:', np.round(w_opt_msr, 5))"
   ]
  },
  {
   "cell_type": "markdown",
   "id": "8c2f9383-5507-473d-8336-4c8d3f75e801",
   "metadata": {},
   "source": [
    "<h2> <ins>Plotting Efficient Frontier</ins> </h2>"
   ]
  },
  {
   "cell_type": "code",
   "execution_count": 13,
   "id": "41cb8308-8d7d-48cb-b832-8fb4f8fab68c",
   "metadata": {},
   "outputs": [
    {
     "data": {
      "image/png": "[encoded data removed]",
      "text/plain": [
       "<Figure size 1200x800 with 1 Axes>"
      ]
     },
     "metadata": {},
     "output_type": "display_data"
    }
   ],
   "source": [
    "plt.figure(figsize=(12,8))\n",
    "plt.scatter(ef.risk, ef.ret, s=5, c='black', label='Efficient Frontier')\n",
    "plt.scatter(stocks_risk[0],stocks_ret[0], s=50, c='brown', label=stocks[0])\n",
    "plt.scatter(stocks_risk[1],stocks_ret[1], s=50, c='yellow', label=stocks[1])\n",
    "plt.scatter(risk_opt_mr, ret_opt_mr, s=100, c='red', marker='x', label='Minimal Risk Portfolio')\n",
    "plt.scatter(risk_opt_msr, ret_opt_msr, s=100, c='blue', marker='x', label='Maximal Sharpe Ratio Portfolio')\n",
    "plt.xlabel('Risk', fontsize=20)\n",
    "plt.ylabel('Return', fontsize=20)\n",
    "plt.title('Efficient Frontier', fontsize=30)\n",
    "plt.legend()\n",
    "plt.show()"
   ]
  },
  {
   "cell_type": "markdown",
   "id": "ee4ac487-8855-45b5-a8a4-d8b1f3ab617a",
   "metadata": {},
   "source": [
    "<h2> <b><ins>Translating Portfolio Weights to Stock Allocations</ins></b> </h2>\n",
    "\n",
    "Although we have found a set of optimal weights that will results in the best portfolio, these mean nothing by themselves in reality since we cannot always simply take our total investment, divide it by the weights and buy that much of a stock. For some assets, we can only buy an integer amount of it and so we need to find a way to distribute our investment in an optimal way. Since the first scenario is incredibly simply, let us solely look at the case where we cannot have fractional shares.\n",
    "\n",
    "Suppose we have found an optimal set of weights $\\mathbf{w}$ and are seeking to have a portfolio made up of an initial investment $I$. Now assuming we cannot have fractional shares, let $\\mathbf{x}$ represent our set of number of integer shares for each asset in our portfolio. Now let $\\mathbf{p}$ denote the latest prices of said assets. Let us begin by calculating and comparing what our ideal allocation to each asset is and how much money we have left over after buying as many integer shares as possible.\n",
    "\n",
    "In an ideal world, we would like to be as close to possible to our optimal weights $\\mathbf{w}$ and so ideally the price amount we would aim to invest into each asset would be $\\mathbf{w}\\cdot \\mathbf{I}$ where $\\mathbf{I}=I\\cdot\\mathbf{1}$. However, using our integer shares and latest prices, in reality we would be investing $\\mathbf{x}\\cdot \\mathbf{p}$ into each asset. So, having found an optimal $\\mathbf{w}$, we want to also find an optimal $\\mathbf{x}$ such that we minimise the difference between $\\mathbf{w}\\cdot \\mathbf{I}$ and $\\mathbf{x}\\cdot \\mathbf{p}$. Defining the absolute error as $\\epsilon = \\lVert \\mathbf{w}\\cdot \\mathbf{I} - \\mathbf{x}\\cdot \\mathbf{p} \\rVert_{1}$, we wish to find $\\mathbf{x}$ which minimises $\\epsilon$.\n",
    "\n",
    "Moreover, after investing our money using $\\mathbf{x}$ shares of each asset, we will have spent $\\mathbf{x}\\cdot \\mathbf{p}$ from our total investment amount of $I$. So we can say that we will have a remainder amount $r$ of $r=I-\\mathbf{x}\\cdot \\mathbf{p}$. So clearly, we seek to find $\\mathbf{x}$ that minimises $r$ as well.\n",
    "\n",
    "So our overall optimisation problem is as follows. We wish to find $\\mathbf{x}$ that\n",
    "$$\\mathbf{x} = \\min_{\\mathbf{x}}\\left\\{r+\\lVert \\mathbf{w}\\cdot \\mathbf{I} - \\mathbf{x}\\cdot \\mathbf{p} \\rVert_{1}\\right\\}$$\n",
    "$$\\text{s.t}\\,\\,\\,r=I-\\mathbf{x}\\cdot \\mathbf{p}$$\n",
    "where\n",
    "- $I \\in \\mathbb{R}$ is the total investment to be allocated\n",
    "- $\\mathbf{p} \\in \\mathbb{R}^{k}$ are the latest prices of each of the $k$ assets in our portfolio\n",
    "- $\\mathbf{w} \\in \\mathbb{R}^{k}$ are the optimal weights for each of the $k$ assets we previously calculated\n",
    "- $\\mathbf{x} \\in \\mathbb{R}^{k}$ are the optimal integer shares of each of the $k$ assets we seek to find\n",
    "- $r \\in \\mathbb{R}$ is the remainder of the total investment that we have not invested into any assets\n",
    "\n",
    "In order to achieve this we will rely on treating this as an integer programming problem and make use of the library CvxPy."
   ]
  },
  {
   "cell_type": "code",
   "execution_count": 14,
   "id": "941eb052-8676-4a79-a2ca-adf60ce2f395",
   "metadata": {},
   "outputs": [
    {
     "name": "stdout",
     "output_type": "stream",
     "text": [
      "Our calculated allocation:\n",
      "\n",
      "Allocations: [21 23]\n",
      "Leftover cash: 38.92\n"
     ]
    }
   ],
   "source": [
    "# No shorting\n",
    "I = 10_000\n",
    "p = df.iloc[-1].to_numpy()\n",
    "n = len(p)\n",
    "w = w_opt_msr.astype(float)\n",
    "\n",
    "x = cp.Variable(n, integer=True)\n",
    "r = I - x.T @ p\n",
    "\n",
    "error = w * I - cp.multiply(x, p)\n",
    "u = cp.Variable(n)\n",
    "constraints = [error <= u, error >= -u, x >= 0, r >= 0]\n",
    "objective = cp.sum(u) + r\n",
    "\n",
    "obj = cp.Minimize(objective)\n",
    "prob = cp.Problem(obj, constraints)\n",
    "prob.solve(solver=\"ECOS_BB\")\n",
    "\n",
    "alloc = np.rint(x.value).astype(int)\n",
    "remainder = r.value\n",
    "\n",
    "print('Our calculated allocation:\\n')\n",
    "print('Allocations:', alloc)\n",
    "print('Leftover cash:', round(remainder, 3))"
   ]
  },
  {
   "cell_type": "markdown",
   "id": "16339918-1d35-4af2-9213-ba9bad3c3a29",
   "metadata": {},
   "source": [
    "<h2> <ins>Conclusion</ins> </h2>\n",
    "\n"
   ]
  },
  {
   "cell_type": "code",
   "execution_count": null,
   "id": "02d05701-8e8d-4350-8492-8dcf33bb71ad",
   "metadata": {},
   "outputs": [],
   "source": []
  }
 ],
 "metadata": {
  "kernelspec": {
   "display_name": "Python 3 (ipykernel)",
   "language": "python",
   "name": "python3"
  },
  "language_info": {
   "codemirror_mode": {
    "name": "ipython",
    "version": 3
   },
   "file_extension": ".py",
   "mimetype": "text/x-python",
   "name": "python",
   "nbconvert_exporter": "python",
   "pygments_lexer": "ipython3",
   "version": "3.10.7"
  }
 },
 "nbformat": 4,
 "nbformat_minor": 5
}
